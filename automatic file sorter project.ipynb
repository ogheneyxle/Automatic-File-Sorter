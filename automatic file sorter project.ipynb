{
 "cells": [
  {
   "cell_type": "markdown",
   "id": "11adc78c-57a2-4e0d-9f69-80171d74b130",
   "metadata": {},
   "source": [
    "# Automatic File Sorter"
   ]
  },
  {
   "cell_type": "code",
   "execution_count": 1,
   "id": "7fd32e5d-fd4d-4e18-a289-e0f5dd0cfe6a",
   "metadata": {},
   "outputs": [],
   "source": [
    "import os, shutil"
   ]
  },
  {
   "cell_type": "code",
   "execution_count": 28,
   "id": "0fe12d6b-c447-49d8-806c-5f451a13cbc3",
   "metadata": {},
   "outputs": [],
   "source": [
    "# this command creates the variable 'path' for our code. you copy the file path info and paste inside the '', replace the '\\' on the original file path with '/' and add r in front so it is read as string\n",
    "\n",
    "path = r'C:/Users/user/Desktop/python file sorter/'"
   ]
  },
  {
   "cell_type": "code",
   "execution_count": 69,
   "id": "74486ca3-566a-4252-b438-16f70daa8421",
   "metadata": {},
   "outputs": [
    {
     "data": {
      "text/plain": [
       "['excel files',\n",
       " 'Excel Project Dataset.xlsx',\n",
       " 'Excel Project.xlsx',\n",
       " 'image files',\n",
       " 'pdf files',\n",
       " 'video files']"
      ]
     },
     "execution_count": 69,
     "metadata": {},
     "output_type": "execute_result"
    }
   ],
   "source": [
    "# now to inspect the path folder for the files it contains\n",
    "\n",
    "os.listdir(path)"
   ]
  },
  {
   "cell_type": "code",
   "execution_count": 70,
   "id": "3951c247-c9d1-4fc4-9514-2ef7c5c7bbc1",
   "metadata": {},
   "outputs": [],
   "source": [
    "# to sort these files, we need to create folders they'd go into. \n",
    "\n",
    "folder_names = ['excel files','image files','video files','pdf files']\n",
    "\n",
    "for loop in range(0,4):\n",
    "    if not os.path.exists(path + folder_names[loop]):\n",
    "       print(path + folder_names[loop])\n",
    "       os.makedirs(path + folder_names[loop])"
   ]
  },
  {
   "cell_type": "code",
   "execution_count": 71,
   "id": "40eae3a1-4c0c-47bd-a490-721e5e880c49",
   "metadata": {},
   "outputs": [],
   "source": [
    "# with the folders created, we need to create for loop statements to sort them out but first we need to assign 'os.listdir(path)' to a variable, looks better visually.\n",
    "\n",
    "file_name = os.listdir(path)\n"
   ]
  },
  {
   "cell_type": "code",
   "execution_count": 64,
   "id": "11634916-8ade-4a7f-a108-e80f35198517",
   "metadata": {},
   "outputs": [],
   "source": [
    "# now for the for loop statements to sort the files containing the file extension/types\n",
    "\n",
    "for file in file_name:\n",
    "    if \".xlsx\" in file and not  os.path.exists(path + 'excel files/' + file):\n",
    "        shutil.move(path + file, path + 'excel files/' + file)\n",
    "    elif \".jpg\" in file and not  os.path.exists(path + 'image files/' + file):\n",
    "        shutil.move(path + file, path + 'image files/' + file)\n",
    "    elif \".pdf\" in file and not  os.path.exists(path + 'pdf files/' + file):\n",
    "        shutil.move(path + file, path + 'pdf files/' + file)\n",
    "    elif \".mp4\" in file and not  os.path.exists(path + 'video files/' + file):\n",
    "        shutil.move(path + file, path + 'video files/' + file)"
   ]
  },
  {
   "cell_type": "code",
   "execution_count": 72,
   "id": "8decc4d0-9509-41f0-9536-b03badeffd32",
   "metadata": {},
   "outputs": [],
   "source": [
    "# the above line of code works great but it addresses scenarios where the folders are empty (it works even if the folder has content though), but if you want something for folders with content, see below.\n",
    "\n",
    "for file in file_name:\n",
    "    if \".xlsx\" in file:\n",
    "        shutil.move(path + file, path + 'excel files/' + file)\n"
   ]
  },
  {
   "cell_type": "code",
   "execution_count": 54,
   "id": "07b284b4-ba4e-4034-9538-394d7d0c9217",
   "metadata": {},
   "outputs": [
    {
     "name": "stdout",
     "output_type": "stream",
     "text": [
      "['Data Cleaning Excel Tutorial.xlsx', 'excel files', 'image files', 'pdf files', 'video files']\n"
     ]
    }
   ],
   "source": [
    "print(file_name)"
   ]
  },
  {
   "cell_type": "code",
   "execution_count": null,
   "id": "39953572-bf89-4f60-b2c2-21a8bd4c620d",
   "metadata": {},
   "outputs": [],
   "source": []
  }
 ],
 "metadata": {
  "kernelspec": {
   "display_name": "Python 3 (ipykernel)",
   "language": "python",
   "name": "python3"
  },
  "language_info": {
   "codemirror_mode": {
    "name": "ipython",
    "version": 3
   },
   "file_extension": ".py",
   "mimetype": "text/x-python",
   "name": "python",
   "nbconvert_exporter": "python",
   "pygments_lexer": "ipython3",
   "version": "3.12.7"
  }
 },
 "nbformat": 4,
 "nbformat_minor": 5
}
